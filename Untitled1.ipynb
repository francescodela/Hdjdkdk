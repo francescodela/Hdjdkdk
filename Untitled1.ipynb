{
  "nbformat": 4,
  "nbformat_minor": 0,
  "metadata": {
    "colab": {
      "provenance": [],
      "toc_visible": true,
      "authorship_tag": "ABX9TyMMMdClBJAkYulv1m0Ch2Pl",
      "include_colab_link": true
    },
    "kernelspec": {
      "name": "python3",
      "display_name": "Python 3"
    },
    "language_info": {
      "name": "python"
    }
  },
  "cells": [
    {
      "cell_type": "markdown",
      "metadata": {
        "id": "view-in-github",
        "colab_type": "text"
      },
      "source": [
        "<a href=\"https://colab.research.google.com/github/francescodela/Hdjdkdk/blob/main/Untitled1.ipynb\" target=\"_parent\"><img src=\"https://colab.research.google.com/assets/colab-badge.svg\" alt=\"Open In Colab\"/></a>"
      ]
    },
    {
      "cell_type": "markdown",
      "source": [
        "#ejeercicio de agregacion"
      ],
      "metadata": {
        "id": "S1ncRJPZ6obf"
      }
    },
    {
      "cell_type": "code",
      "execution_count": 4,
      "metadata": {
        "colab": {
          "base_uri": "https://localhost:8080/"
        },
        "id": "BmNpOu_y6Lsg",
        "outputId": "8d5e3b67-2e4e-4a06-e32c-c6a0366c7aab"
      },
      "outputs": [
        {
          "output_type": "stream",
          "name": "stdout",
          "text": [
            "Curso: Matemáticas\n",
            "- Juan\n",
            "- Ana\n"
          ]
        }
      ],
      "source": [
        "class Estudiante:\n",
        "    def __init__(self, nombre):\n",
        "        self.nombre = nombre\n",
        "\n",
        "class Curso:\n",
        "    def __init__(self, nombre):\n",
        "        self.nombre = nombre\n",
        "        # lista de estudiantes, que existen independientemente del curso\n",
        "        self.estudiantes = []\n",
        "\n",
        "    def agregarEstudiante(self, estudiante):\n",
        "        self.estudiantes.append(estudiante)\n",
        "\n",
        "    def listarEstudiantes(self):  # Asegúrate de que el nombre del método sea correcto\n",
        "        print(f\"Curso: {self.nombre}\")\n",
        "        for estudiante in self.estudiantes:\n",
        "            print(f\"- {estudiante.nombre.strip()}\")  # Eliminar espacios adicionales\n",
        "\n",
        "# Crear estudiantes independientemente del curso\n",
        "estudiante1 = Estudiante(\"Juan\")\n",
        "estudiante2 = Estudiante(\"Ana\")\n",
        "\n",
        "# Crear un curso y agregar estudiantes al curso\n",
        "curso = Curso(\"Matemáticas\")\n",
        "curso.agregarEstudiante(estudiante1)\n",
        "curso.agregarEstudiante(estudiante2)\n",
        "curso.listarEstudiantes()\n",
        "\n",
        "\n"
      ]
    },
    {
      "cell_type": "code",
      "source": [],
      "metadata": {
        "id": "v4AWJtfiAn4g"
      },
      "execution_count": null,
      "outputs": []
    },
    {
      "cell_type": "code",
      "source": [],
      "metadata": {
        "id": "84SLQSiP68Zg"
      },
      "execution_count": null,
      "outputs": []
    }
  ]
}