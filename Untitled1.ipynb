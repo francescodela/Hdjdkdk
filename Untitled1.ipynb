{
  "nbformat": 4,
  "nbformat_minor": 0,
  "metadata": {
    "colab": {
      "provenance": [],
      "authorship_tag": "ABX9TyNO1HQhPuXzuF1tHxORdYUF",
      "include_colab_link": true
    },
    "kernelspec": {
      "name": "python3",
      "display_name": "Python 3"
    },
    "language_info": {
      "name": "python"
    }
  },
  "cells": [
    {
      "cell_type": "markdown",
      "metadata": {
        "id": "view-in-github",
        "colab_type": "text"
      },
      "source": [
        "<a href=\"https://colab.research.google.com/github/francescodela/Hdjdkdk/blob/main/Untitled1.ipynb\" target=\"_parent\"><img src=\"https://colab.research.google.com/assets/colab-badge.svg\" alt=\"Open In Colab\"/></a>"
      ]
    },
    {
      "cell_type": "code",
      "execution_count": 3,
      "metadata": {
        "id": "Lwag5Y5uhqhk",
        "colab": {
          "base_uri": "https://localhost:8080/"
        },
        "outputId": "59d9d880-aa94-497c-b86b-5f88671d641c"
      },
      "outputs": [
        {
          "output_type": "stream",
          "name": "stdout",
          "text": [
            "gabriel garcia marquez  \n",
            " {'titulo': 'Cien años de soledad', 'autor': 'Gabriel García Márquez'} \n",
            "Miguel de Cervantes  \n",
            " {'titulo': 'Don Quijote de la Mancha', 'autor': 'Miguel de Cervantes'} \n"
          ]
        }
      ],
      "source": [
        "class Autor:\n",
        "    def __init__(self, nombre ):\n",
        "        self.nombre = nombre\n",
        "\n",
        "class Libro (Autor):\n",
        "    def __init__(self, titulo, autor ):\n",
        "        self.titulo=titulo\n",
        "        self.autor = autor\n",
        "\n",
        "autor = Autor(\"gabriel garcia marquez \")\n",
        "libro1 = Libro(\"Cien años de soledad\", \"Gabriel García Márquez\")\n",
        "\n",
        "autor2 = Autor(\"Miguel de Cervantes \")\n",
        "libro2 = Libro(\"Don Quijote de la Mancha\", \"Miguel de Cervantes\")\n",
        "\n",
        "print (f\"{autor.nombre} \\n {libro1.__dict__} \")\n",
        "print (f\"{autor2.nombre} \\n {libro2.__dict__} \")\n"
      ]
    },
    {
      "cell_type": "code",
      "source": [],
      "metadata": {
        "id": "WlaRlXdjhtTJ"
      },
      "execution_count": null,
      "outputs": []
    },
    {
      "cell_type": "code",
      "source": [
        "from google.colab import drive\n",
        "drive.mount('/content/drive')"
      ],
      "metadata": {
        "id": "W8pDrq98iK7h",
        "colab": {
          "base_uri": "https://localhost:8080/",
          "height": 304
        },
        "outputId": "2b479fbb-58ff-4b1d-b082-750dd6850276"
      },
      "execution_count": 1,
      "outputs": [
        {
          "output_type": "error",
          "ename": "MessageError",
          "evalue": "Error: credential propagation was unsuccessful",
          "traceback": [
            "\u001b[0;31m---------------------------------------------------------------------------\u001b[0m",
            "\u001b[0;31mMessageError\u001b[0m                              Traceback (most recent call last)",
            "\u001b[0;32m<ipython-input-1-d5df0069828e>\u001b[0m in \u001b[0;36m<cell line: 2>\u001b[0;34m()\u001b[0m\n\u001b[1;32m      1\u001b[0m \u001b[0;32mfrom\u001b[0m \u001b[0mgoogle\u001b[0m\u001b[0;34m.\u001b[0m\u001b[0mcolab\u001b[0m \u001b[0;32mimport\u001b[0m \u001b[0mdrive\u001b[0m\u001b[0;34m\u001b[0m\u001b[0;34m\u001b[0m\u001b[0m\n\u001b[0;32m----> 2\u001b[0;31m \u001b[0mdrive\u001b[0m\u001b[0;34m.\u001b[0m\u001b[0mmount\u001b[0m\u001b[0;34m(\u001b[0m\u001b[0;34m'/content/drive'\u001b[0m\u001b[0;34m)\u001b[0m\u001b[0;34m\u001b[0m\u001b[0;34m\u001b[0m\u001b[0m\n\u001b[0m",
            "\u001b[0;32m/usr/local/lib/python3.10/dist-packages/google/colab/drive.py\u001b[0m in \u001b[0;36mmount\u001b[0;34m(mountpoint, force_remount, timeout_ms, readonly)\u001b[0m\n\u001b[1;32m     98\u001b[0m \u001b[0;32mdef\u001b[0m \u001b[0mmount\u001b[0m\u001b[0;34m(\u001b[0m\u001b[0mmountpoint\u001b[0m\u001b[0;34m,\u001b[0m \u001b[0mforce_remount\u001b[0m\u001b[0;34m=\u001b[0m\u001b[0;32mFalse\u001b[0m\u001b[0;34m,\u001b[0m \u001b[0mtimeout_ms\u001b[0m\u001b[0;34m=\u001b[0m\u001b[0;36m120000\u001b[0m\u001b[0;34m,\u001b[0m \u001b[0mreadonly\u001b[0m\u001b[0;34m=\u001b[0m\u001b[0;32mFalse\u001b[0m\u001b[0;34m)\u001b[0m\u001b[0;34m:\u001b[0m\u001b[0;34m\u001b[0m\u001b[0;34m\u001b[0m\u001b[0m\n\u001b[1;32m     99\u001b[0m   \u001b[0;34m\"\"\"Mount your Google Drive at the specified mountpoint path.\"\"\"\u001b[0m\u001b[0;34m\u001b[0m\u001b[0;34m\u001b[0m\u001b[0m\n\u001b[0;32m--> 100\u001b[0;31m   return _mount(\n\u001b[0m\u001b[1;32m    101\u001b[0m       \u001b[0mmountpoint\u001b[0m\u001b[0;34m,\u001b[0m\u001b[0;34m\u001b[0m\u001b[0;34m\u001b[0m\u001b[0m\n\u001b[1;32m    102\u001b[0m       \u001b[0mforce_remount\u001b[0m\u001b[0;34m=\u001b[0m\u001b[0mforce_remount\u001b[0m\u001b[0;34m,\u001b[0m\u001b[0;34m\u001b[0m\u001b[0;34m\u001b[0m\u001b[0m\n",
            "\u001b[0;32m/usr/local/lib/python3.10/dist-packages/google/colab/drive.py\u001b[0m in \u001b[0;36m_mount\u001b[0;34m(mountpoint, force_remount, timeout_ms, ephemeral, readonly)\u001b[0m\n\u001b[1;32m    135\u001b[0m   )\n\u001b[1;32m    136\u001b[0m   \u001b[0;32mif\u001b[0m \u001b[0mephemeral\u001b[0m\u001b[0;34m:\u001b[0m\u001b[0;34m\u001b[0m\u001b[0;34m\u001b[0m\u001b[0m\n\u001b[0;32m--> 137\u001b[0;31m     _message.blocking_request(\n\u001b[0m\u001b[1;32m    138\u001b[0m         \u001b[0;34m'request_auth'\u001b[0m\u001b[0;34m,\u001b[0m\u001b[0;34m\u001b[0m\u001b[0;34m\u001b[0m\u001b[0m\n\u001b[1;32m    139\u001b[0m         \u001b[0mrequest\u001b[0m\u001b[0;34m=\u001b[0m\u001b[0;34m{\u001b[0m\u001b[0;34m'authType'\u001b[0m\u001b[0;34m:\u001b[0m \u001b[0;34m'dfs_ephemeral'\u001b[0m\u001b[0;34m}\u001b[0m\u001b[0;34m,\u001b[0m\u001b[0;34m\u001b[0m\u001b[0;34m\u001b[0m\u001b[0m\n",
            "\u001b[0;32m/usr/local/lib/python3.10/dist-packages/google/colab/_message.py\u001b[0m in \u001b[0;36mblocking_request\u001b[0;34m(request_type, request, timeout_sec, parent)\u001b[0m\n\u001b[1;32m    174\u001b[0m       \u001b[0mrequest_type\u001b[0m\u001b[0;34m,\u001b[0m \u001b[0mrequest\u001b[0m\u001b[0;34m,\u001b[0m \u001b[0mparent\u001b[0m\u001b[0;34m=\u001b[0m\u001b[0mparent\u001b[0m\u001b[0;34m,\u001b[0m \u001b[0mexpect_reply\u001b[0m\u001b[0;34m=\u001b[0m\u001b[0;32mTrue\u001b[0m\u001b[0;34m\u001b[0m\u001b[0;34m\u001b[0m\u001b[0m\n\u001b[1;32m    175\u001b[0m   )\n\u001b[0;32m--> 176\u001b[0;31m   \u001b[0;32mreturn\u001b[0m \u001b[0mread_reply_from_input\u001b[0m\u001b[0;34m(\u001b[0m\u001b[0mrequest_id\u001b[0m\u001b[0;34m,\u001b[0m \u001b[0mtimeout_sec\u001b[0m\u001b[0;34m)\u001b[0m\u001b[0;34m\u001b[0m\u001b[0;34m\u001b[0m\u001b[0m\n\u001b[0m",
            "\u001b[0;32m/usr/local/lib/python3.10/dist-packages/google/colab/_message.py\u001b[0m in \u001b[0;36mread_reply_from_input\u001b[0;34m(message_id, timeout_sec)\u001b[0m\n\u001b[1;32m    101\u001b[0m     ):\n\u001b[1;32m    102\u001b[0m       \u001b[0;32mif\u001b[0m \u001b[0;34m'error'\u001b[0m \u001b[0;32min\u001b[0m \u001b[0mreply\u001b[0m\u001b[0;34m:\u001b[0m\u001b[0;34m\u001b[0m\u001b[0;34m\u001b[0m\u001b[0m\n\u001b[0;32m--> 103\u001b[0;31m         \u001b[0;32mraise\u001b[0m \u001b[0mMessageError\u001b[0m\u001b[0;34m(\u001b[0m\u001b[0mreply\u001b[0m\u001b[0;34m[\u001b[0m\u001b[0;34m'error'\u001b[0m\u001b[0;34m]\u001b[0m\u001b[0;34m)\u001b[0m\u001b[0;34m\u001b[0m\u001b[0;34m\u001b[0m\u001b[0m\n\u001b[0m\u001b[1;32m    104\u001b[0m       \u001b[0;32mreturn\u001b[0m \u001b[0mreply\u001b[0m\u001b[0;34m.\u001b[0m\u001b[0mget\u001b[0m\u001b[0;34m(\u001b[0m\u001b[0;34m'data'\u001b[0m\u001b[0;34m,\u001b[0m \u001b[0;32mNone\u001b[0m\u001b[0;34m)\u001b[0m\u001b[0;34m\u001b[0m\u001b[0;34m\u001b[0m\u001b[0m\n\u001b[1;32m    105\u001b[0m \u001b[0;34m\u001b[0m\u001b[0m\n",
            "\u001b[0;31mMessageError\u001b[0m: Error: credential propagation was unsuccessful"
          ]
        }
      ]
    },
    {
      "cell_type": "code",
      "source": [
        "class Estudiante:\n",
        "    def __init__(self, nombre):\n",
        "        self.nombre = nombre\n",
        "\n",
        "class Clase:\n",
        "    def __init__(self, nombre):\n",
        "        self.nombre = nombre\n",
        "        self.estudiantes = []\n",
        "    def presentar (self):\n",
        "        print (f\"los asistentes  a la clase  de {clase.nombre} son:\" )\n",
        "    def anadir_estudiante(self, estudiante):\n",
        "        self.estudiantes.append(estudiante)\n",
        "\n",
        "    def listar_estudiantes(self):\n",
        "        return [estudiante.nombre for estudiante in self.estudiantes]\n",
        "estudiante1 = Estudiante(\"frank\")\n",
        "estudiante2 = Estudiante(\"francoise\")\n",
        "clase =  Clase ( \"programacion \")\n",
        "clase.presentar()\n",
        "clase.anadir_estudiante (estudiante1)\n",
        "clase.anadir_estudiante(estudiante2)\n",
        "for nombre in clase.listar_estudiantes():\n",
        "    print(nombre)\n",
        "\n",
        "\n",
        "\n"
      ],
      "metadata": {
        "colab": {
          "base_uri": "https://localhost:8080/"
        },
        "id": "A3z5bFiJkgCd",
        "outputId": "239c56bd-93a6-4f45-e2e2-878f0fe04601"
      },
      "execution_count": 4,
      "outputs": [
        {
          "output_type": "stream",
          "name": "stdout",
          "text": [
            "los asistentes  a la clase  de programacion  son:\n",
            "frank\n",
            "francoise\n"
          ]
        }
      ]
    },
    {
      "cell_type": "code",
      "source": [
        "class Motor  :\n",
        "    def __init__(self, tipo):\n",
        "        self.tipo = tipo\n",
        "\n",
        "class Coche :\n",
        "    def __init__(self, marca ):\n",
        "        self.marca = marca\n",
        "        self.encendido = False\n",
        "\n",
        "    def encender(self):\n",
        "        if not self.encendido:\n",
        "            self.encendido = True\n",
        "            print(f\"El coche {coche1.marca} ha  encendido el {motor.tipo}\")\n",
        "\n",
        "motor = Motor (\"motor a gasolina \")\n",
        "coche1 = Coche (\"toyota \")\n",
        "coche = Coche(False)\n",
        "coche.encender ()"
      ],
      "metadata": {
        "id": "_mwaD12_hzpQ",
        "colab": {
          "base_uri": "https://localhost:8080/"
        },
        "outputId": "a0d196c2-100d-46e2-8087-d19afebc47a6"
      },
      "execution_count": 5,
      "outputs": [
        {
          "output_type": "stream",
          "name": "stdout",
          "text": [
            "El coche toyota  ha  encendido el motor a gasolina \n"
          ]
        }
      ]
    },
    {
      "cell_type": "code",
      "source": [
        "class Animal :\n",
        "    def __init__(self, tipo, nombre, color   ):\n",
        "        self.tipo = tipo\n",
        "        self.nombre = nombre\n",
        "        self.color = color\n",
        "\n",
        "    def hacer_sonido  (self):\n",
        "        pass\n",
        "class Gato (Animal):\n",
        "\n",
        "    def hacer_sonido  (self):\n",
        "        print ( \"¡miau!\")\n",
        "class Perro (Animal):\n",
        "    def hacer_sonido  (self):\n",
        "        print ( \"¡guau!\")\n",
        "gato = Gato ( \"gato\", \"fernigan\", \"verde\")\n",
        "perro = Perro (\"perro\",\"alain\", \"azul\")\n",
        "print (f\"{gato.__dict__}\\n {gato.hacer_sonido ()}\")\n",
        "print (f\"{perro.__dict__} \\n {perro.hacer_sonido()}\")\n",
        "\n",
        "\n",
        ""
      ],
      "metadata": {
        "colab": {
          "base_uri": "https://localhost:8080/"
        },
        "id": "6fxC_VzplLQt",
        "outputId": "b7b2664a-212a-4878-d7d8-96befa8f7d66"
      },
      "execution_count": 6,
      "outputs": [
        {
          "output_type": "stream",
          "name": "stdout",
          "text": [
            "¡miau!\n",
            "{'tipo': 'gato', 'nombre': 'fernigan', 'color': 'verde'}\n",
            " None\n",
            "¡guau!\n",
            "{'tipo': 'perro', 'nombre': 'alain', 'color': 'azul'} \n",
            " None\n"
          ]
        }
      ]
    },
    {
      "cell_type": "code",
      "source": [
        "class Producto:\n",
        "    def __init__(self, _nombre, _precio):\n",
        "        self._nombre = _nombre\n",
        "        self.precio = _precio\n",
        "\n",
        "    @property\n",
        "    def nombre(self):\n",
        "        return self._nombre\n",
        "\n",
        "    @property\n",
        "    def precio(self):\n",
        "        return self._precio\n",
        "\n",
        "    @precio.setter\n",
        "    def precio(self, newprecio):\n",
        "        if newprecio < 0:\n",
        "            print(\"no puede ser negativo\")\n",
        "        else:\n",
        "            self._precio = newprecio\n",
        "\n",
        "    def mostrar(self):\n",
        "        print(f\"Producto: {self.nombre}\\nPrecio: {self.precio}\")\n",
        "\n",
        "\n",
        "producto = Producto(\"libro\", 1500)\n",
        "producto.mostrar()\n",
        "producto.precio = 1800\n",
        "producto.mostrar()\n",
        "\n",
        "producto.precio = -10\n",
        "producto.mostrar()"
      ],
      "metadata": {
        "id": "7Vc8KVGPlT3m"
      },
      "execution_count": null,
      "outputs": []
    }
  ]
}